{
 "cells": [
  {
   "cell_type": "code",
   "execution_count": 96,
   "source": [
    "import aspect_based_sentiment_analysis as absa\n",
    "import json\n",
    "import pandas as pd\n",
    "from textblob import TextBlob\n",
    "import re"
   ],
   "outputs": [],
   "metadata": {}
  },
  {
   "cell_type": "code",
   "execution_count": 97,
   "source": [
    "with open(\"C:/Users/Chitra Bhat/Desktop/tweets.json\") as jfile:\n",
    "    d = json.load(jfile)"
   ],
   "outputs": [],
   "metadata": {}
  },
  {
   "cell_type": "code",
   "execution_count": 98,
   "source": [
    "data = []\n",
    "for keys in d.keys():\n",
    "    data.append(d[keys])"
   ],
   "outputs": [],
   "metadata": {}
  },
  {
   "cell_type": "code",
   "execution_count": 99,
   "source": [
    "df = pd.DataFrame.from_dict(data)"
   ],
   "outputs": [],
   "metadata": {}
  },
  {
   "cell_type": "code",
   "execution_count": 100,
   "source": [
    "def clean_tweet(tweet):\n",
    "    return ' '.join(re.sub(\"(@[A-Za-z0-9]+)|([^0-9A-Za-z \\t])|(\\w+:\\/\\/\\S+)\", \" \", tweet).lower().split())"
   ],
   "outputs": [],
   "metadata": {}
  },
  {
   "cell_type": "code",
   "execution_count": 101,
   "source": [
    "df['tweet_text'] = df['tweet_text'].apply(clean_tweet)"
   ],
   "outputs": [],
   "metadata": {}
  },
  {
   "cell_type": "code",
   "execution_count": 73,
   "source": [
    "list_of_entities = []\n",
    "for tweet in df['tweet_text']:\n",
    "    blob = TextBlob(tweet)\n",
    "    list_of_entities.extend(blob.noun_phrases)"
   ],
   "outputs": [],
   "metadata": {}
  },
  {
   "cell_type": "code",
   "execution_count": 86,
   "source": [
    "from collections import Counter\n",
    "c = Counter(list_of_entities)"
   ],
   "outputs": [],
   "metadata": {}
  },
  {
   "cell_type": "code",
   "execution_count": 1,
   "source": [
    "objective1 = pd.DataFrame.from_dict(c.items())\n",
    "objective1 = objective1.rename(columns = {0: 'entity', 1: 'frequency'})\n",
    "objective1 = objective1.sort_values(by=['frequency'], ascending = False)\n",
    "objective1.reset_index(inplace = True)"
   ],
   "outputs": [],
   "metadata": {}
  },
  {
   "cell_type": "code",
   "execution_count": 27,
   "source": [
    "df=df.set_index('tweet_author')"
   ],
   "outputs": [],
   "metadata": {}
  },
  {
   "cell_type": "code",
   "execution_count": 311,
   "source": [
    "nlp = absa.load()\n",
    "dataframe = pd.DataFrame(columns = [\"Entity\", \"Sentiment\", \"Name\"])\n",
    "for text in list(df['tweet_text']):\n",
    "   # tinydf = pd.DataFrame()\n",
    "    #print(text)\n",
    "    sentiment_list = {}\n",
    "    noun_phrases = list(TextBlob(text).noun_phrases)\n",
    "    #print(noun_phrases)\n",
    "    for noun in noun_phrases:\n",
    "        word = list(nlp(text, aspects = [noun]).subtasks.values())[0].sentiment\n",
    "        if word == absa.Sentiment.positive:\n",
    "            sentiment_list[noun] = 'Positive'\n",
    "        elif word == absa.Sentiment.negative:\n",
    "            sentiment_list[noun] = 'Negative'\n",
    "        else: sentiment_list[noun] = 'Neutral'\n",
    "    tinydf = pd.DataFrame(sentiment_list.items(), columns = [\"Entity\", \"Sentiment\"]) \n",
    "    tinydf[\"Name\"] = list(df.loc[df['tweet_text'] == text, 'tweet_author'])[0]\n",
    "    dataframe = dataframe.append(tinydf)\n",
    "\n",
    "    "
   ],
   "outputs": [],
   "metadata": {}
  },
  {
   "cell_type": "code",
   "execution_count": 305,
   "source": [
    "sorted_df = dataframe.sort_values(by='Entity', ascending=True)"
   ],
   "outputs": [],
   "metadata": {}
  },
  {
   "cell_type": "code",
   "execution_count": 306,
   "source": [
    "sorted_df = sorted_df.reset_index()\n",
    "cols = ['Entity', 'Name', 'Sentiment']\n",
    "sorted_df = sorted_df[cols]"
   ],
   "outputs": [],
   "metadata": {}
  },
  {
   "cell_type": "code",
   "execution_count": 309,
   "source": [
    "sorted_df.rename(columns = {'Entity':'entity', 'Name': 'author_name', 'Sentiment':'overall_polarity'}, inplace = True)\n",
    "sorted_df.to_csv('objective2.csv', index = False)"
   ],
   "outputs": [],
   "metadata": {}
  },
  {
   "cell_type": "code",
   "execution_count": null,
   "source": [],
   "outputs": [],
   "metadata": {}
  },
  {
   "cell_type": "code",
   "execution_count": null,
   "source": [],
   "outputs": [],
   "metadata": {}
  }
 ],
 "metadata": {
  "kernelspec": {
   "display_name": "Python 3",
   "language": "python",
   "name": "python3"
  },
  "language_info": {
   "codemirror_mode": {
    "name": "ipython",
    "version": 3
   },
   "file_extension": ".py",
   "mimetype": "text/x-python",
   "name": "python",
   "nbconvert_exporter": "python",
   "pygments_lexer": "ipython3",
   "version": "3.8.3"
  }
 },
 "nbformat": 4,
 "nbformat_minor": 4
}